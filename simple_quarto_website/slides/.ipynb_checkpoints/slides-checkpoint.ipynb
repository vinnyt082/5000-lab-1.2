{
 "cells": [
  {
   "cell_type": "markdown",
   "id": "47b5338c",
   "metadata": {},
   "source": [
    "---\n",
    "title: \"Lab Slides\"\n",
    "format:\n",
    "  revealjs:\n",
    "    theme: simple   \n",
    "    code-fold: true    \n",
    "    controls: true\n",
    "execute:\n",
    "  eval: true            \n",
    "  fig-width: 6\n",
    "  fig-height: 4\n",
    "bibliography: ../reference.bib\n",
    "---"
   ]
  },
  {
   "cell_type": "markdown",
   "id": "48d0a840",
   "metadata": {},
   "source": [
    "## Slide 1\n",
    "\n",
    "Data-driven methods underpin modern AI systems and FinTech innovation [@cao2021data]. \n",
    "\n",
    "Human–AI collaboration shapes how data scientists adopt automation in practice [@wang2019human].\n",
    "\n",
    "## Slide 2\n",
    "![](images/luna.jpeg){width=50%}\n",
    "\n",
    "![](images/my_image.jpeg)\n",
    "\n",
    "## Slide 3"
   ]
  },
  {
   "cell_type": "code",
   "execution_count": 2,
   "id": "d92e2a1d",
   "metadata": {},
   "outputs": [
    {
     "data": {
      "image/png": "[encoded data removed]",
      "text/plain": [
       "<Figure size 640x480 with 1 Axes>"
      ]
     },
     "metadata": {},
     "output_type": "display_data"
    }
   ],
   "source": [
    "#| echo: true\n",
    "#| code-fold: true\n",
    "\n",
    "import matplotlib.pyplot as plt\n",
    "\n",
    "x = [1,2,3,4,5]\n",
    "y = [2 * i for i in x]\n",
    "\n",
    "plt.scatter(x, y)\n",
    "plt.show()"
   ]
  }
 ],
 "metadata": {
  "kernelspec": {
   "display_name": "Python (dsan5000)",
   "language": "python",
   "name": "dsan5000"
  },
  "language_info": {
   "codemirror_mode": {
    "name": "ipython",
    "version": 3
   },
   "file_extension": ".py",
   "mimetype": "text/x-python",
   "name": "python",
   "nbconvert_exporter": "python",
   "pygments_lexer": "ipython3",
   "version": "3.12.11"
  }
 },
 "nbformat": 4,
 "nbformat_minor": 5
}
