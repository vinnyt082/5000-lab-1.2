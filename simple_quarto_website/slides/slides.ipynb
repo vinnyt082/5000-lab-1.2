{
 "cells": [
  {
   "cell_type": "markdown",
   "id": "47b5338c",
   "metadata": {},
   "source": [
    "---\n",
    "title: \"Lab Slides\"\n",
    "format:\n",
    "  revealjs:\n",
    "    theme: simple   \n",
    "    code-fold: true    \n",
    "    controls: true\n",
    "execute:\n",
    "  eval: true            \n",
    "  fig-width: 6\n",
    "  fig-height: 4\n",
    "bibliography: ../reference.bib\n",
    "---"
   ]
  },
  {
   "cell_type": "markdown",
   "id": "48d0a840",
   "metadata": {},
   "source": [
    "## Slide 1\n",
    "\n",
    "Data-driven methods underpin modern AI systems and FinTech innovation [@cao2021data]. \n",
    "\n",
    "Human–AI collaboration shapes how data scientists adopt automation in practice [@wang2019human].\n",
    "\n",
    "## Slide 2\n",
    "![](images/luna.jpeg){width=50%}\n",
    "\n",
    "![](images/my_image.jpeg)\n",
    "\n",
    "## Slide 3"
   ]
  },
  {
   "cell_type": "markdown",
   "id": "d92e2a1d",
   "metadata": {
    "vscode": {
     "languageId": "raw"
    }
   },
   "source": [
    "#| echo: true\n",
    "#| code-fold: true\n",
    "\n",
    "import matplotlib.pyplot as plt\n",
    "\n",
    "x = [1,2,3,4,5]\n",
    "y = [2 * i for i in x]\n",
    "\n",
    "plt.scatter(x, y)\n",
    "plt.show()"
   ]
  }
 ],
 "metadata": {
  "language_info": {
   "name": "python"
  }
 },
 "nbformat": 4,
 "nbformat_minor": 5
}
